{
  "nbformat": 4,
  "nbformat_minor": 0,
  "metadata": {
    "colab": {
      "name": "Kai Simple Gan 256x256 05_14_2018.ipynb",
      "version": "0.3.2",
      "views": {},
      "default_view": {},
      "provenance": [
        {
          "file_id": "1UWY_1tBSwkNFZn5xs2J_xhVDRS7k_Vtu",
          "timestamp": 1526349382248
        },
        {
          "file_id": "1tSnxp6DVjMt-UiD9PO02rym9BNVdwZFU",
          "timestamp": 1526330784978
        },
        {
          "file_id": "1w7LD4A1-52CnAvPQcgA6RFC7uUy-0SPM",
          "timestamp": 1526327829586
        },
        {
          "file_id": "1Y9KFf2t5Uc2iiAlJUi7MMc6pnQw85GHE",
          "timestamp": 1526324821517
        },
        {
          "file_id": "168zcSbUwjwRky5tzH0NmLplEwywsHdzW",
          "timestamp": 1525899886058
        }
      ]
    },
    "kernelspec": {
      "name": "python2",
      "display_name": "Python 2"
    },
    "accelerator": "GPU"
  },
  "cells": [
    {
      "metadata": {
        "id": "PHaZ42l-gGSB",
        "colab_type": "text"
      },
      "cell_type": "markdown",
      "source": [
        "https://matplotlib.org/users/image_tutorial.html\n",
        "\n",
        "https://github.com/rohanchikorde/Data-Science-books/blob/master/Deep_Learning%20Books/Deep%20Learning%20with%20Keras%20by%20Antonio%20Gulli.pdf\n",
        "\n",
        "\n",
        "https://medium.com/@mattiaspinelli/simple-generative-adversarial-network-gans-with-keras-1fe578e44a87\n",
        "https://github.com/daymos/simple_keras_GAN"
      ]
    },
    {
      "metadata": {
        "id": "-R_nBrp5ZKTh",
        "colab_type": "code",
        "colab": {
          "autoexec": {
            "startup": false,
            "wait_interval": 0
          },
          "resources": {
            "http://localhost:8080/nbextensions/google.colab/files.js": {
              "data": "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",
              "ok": true,
              "headers": [
                [
                  "content-type",
                  "application/javascript"
                ]
              ],
              "status": 200,
              "status_text": ""
            }
          },
          "base_uri": "https://localhost:8080/",
          "height": 39
        },
        "outputId": "756b5577-e952-4d9f-a8b8-328de3a4a17b",
        "executionInfo": {
          "status": "ok",
          "timestamp": 1526352021872,
          "user_tz": 240,
          "elapsed": 2215,
          "user": {
            "displayName": "Kai Matheson",
            "photoUrl": "//lh5.googleusercontent.com/-fFgNuDpDly4/AAAAAAAAAAI/AAAAAAAAAs8/f5ofK6BWKak/s50-c-k-no/photo.jpg",
            "userId": "107454492991575252026"
          }
        }
      },
      "cell_type": "code",
      "source": [
        "from google.colab import files\n",
        "uploaded = files.upload()"
      ],
      "execution_count": 23,
      "outputs": [
        {
          "output_type": "display_data",
          "data": {
            "text/plain": [
              "<IPython.core.display.HTML object>"
            ],
            "text/html": [
              "\n",
              "     <input type=\"file\" id=\"files-4db23bbb-8d32-4fcc-b4b7-0b5dccb1600f\" name=\"files[]\" multiple disabled />\n",
              "     <output id=\"result-4db23bbb-8d32-4fcc-b4b7-0b5dccb1600f\">\n",
              "      Upload widget is only available when the cell has been executed in the\n",
              "      current browser session. Please rerun this cell to enable.\n",
              "      </output>\n",
              "      <script src=\"/nbextensions/google.colab/files.js\"></script> "
            ]
          },
          "metadata": {
            "tags": []
          }
        }
      ]
    },
    {
      "metadata": {
        "id": "bKoMjt2AY9mz",
        "colab_type": "code",
        "colab": {
          "autoexec": {
            "startup": false,
            "wait_interval": 0
          }
        }
      },
      "cell_type": "code",
      "source": [
        "import zipfile\n",
        "zip_ref = zipfile.ZipFile('256x256maps.zip', 'r')\n",
        "zip_ref.extractall()\n",
        "zip_ref.close()"
      ],
      "execution_count": 0,
      "outputs": []
    },
    {
      "metadata": {
        "id": "4WAuxSFrafYg",
        "colab_type": "code",
        "colab": {
          "autoexec": {
            "startup": false,
            "wait_interval": 0
          },
          "base_uri": "https://localhost:8080/",
          "height": 52
        },
        "outputId": "399b726e-97c1-4f74-de36-3c0c0e4e96c7",
        "executionInfo": {
          "status": "ok",
          "timestamp": 1526352564426,
          "user_tz": 240,
          "elapsed": 1487,
          "user": {
            "displayName": "Kai Matheson",
            "photoUrl": "//lh5.googleusercontent.com/-fFgNuDpDly4/AAAAAAAAAAI/AAAAAAAAAs8/f5ofK6BWKak/s50-c-k-no/photo.jpg",
            "userId": "107454492991575252026"
          }
        }
      },
      "cell_type": "code",
      "source": [
        "ls"
      ],
      "execution_count": 25,
      "outputs": [
        {
          "output_type": "stream",
          "text": [
            "\u001b[0m\u001b[01;34m256x256maps\u001b[0m/     \u001b[01;34mdatalab\u001b[0m/  requirements.txt\r\n",
            "256x256maps.zip  \u001b[01;34mimages\u001b[0m/   simple_gan_output.zip\r\n"
          ],
          "name": "stdout"
        }
      ]
    },
    {
      "metadata": {
        "id": "C4XAjds9ctA8",
        "colab_type": "code",
        "colab": {
          "autoexec": {
            "startup": false,
            "wait_interval": 0
          }
        }
      },
      "cell_type": "code",
      "source": [
        "import tensorflow as tf\n",
        "import random\n",
        "import numpy as np\n",
        "import matplotlib.pyplot as plt\n",
        "import matplotlib.image as mpimg\n",
        "%matplotlib inline\n",
        "import cv2\n",
        "from scipy import ndimage, misc\n",
        "import os"
      ],
      "execution_count": 0,
      "outputs": []
    },
    {
      "metadata": {
        "id": "9HYsbWDZhKUq",
        "colab_type": "code",
        "colab": {
          "autoexec": {
            "startup": false,
            "wait_interval": 0
          },
          "base_uri": "https://localhost:8080/",
          "height": 87
        },
        "outputId": "84454fea-2948-439e-b04a-16c5e5f892d8",
        "executionInfo": {
          "status": "ok",
          "timestamp": 1526352638324,
          "user_tz": 240,
          "elapsed": 3297,
          "user": {
            "displayName": "Kai Matheson",
            "photoUrl": "//lh5.googleusercontent.com/-fFgNuDpDly4/AAAAAAAAAAI/AAAAAAAAAs8/f5ofK6BWKak/s50-c-k-no/photo.jpg",
            "userId": "107454492991575252026"
          }
        }
      },
      "cell_type": "code",
      "source": [
        "mydata = []\n",
        "for filename in os.listdir('256x256maps'):\n",
        "    if filename.endswith(\".png\"): \n",
        "        img = mpimg.imread('256x256maps/' + filename)\n",
        "        img = 255 - cv2.cvtColor( img, cv2.COLOR_RGB2GRAY )\n",
        "        img = misc.imresize(img, (100,100))\n",
        "        img = img.reshape([10000])\n",
        "        mydata.append(img)\n",
        "        continue\n",
        "    else:\n",
        "        continue"
      ],
      "execution_count": 6,
      "outputs": [
        {
          "output_type": "stream",
          "text": [
            "/usr/local/lib/python2.7/dist-packages/ipykernel_launcher.py:6: DeprecationWarning: `imresize` is deprecated!\n",
            "`imresize` is deprecated in SciPy 1.0.0, and will be removed in 1.2.0.\n",
            "Use ``skimage.transform.resize`` instead.\n",
            "  \n"
          ],
          "name": "stderr"
        }
      ]
    },
    {
      "metadata": {
        "id": "OF9sj9yDoHUt",
        "colab_type": "code",
        "colab": {
          "autoexec": {
            "startup": false,
            "wait_interval": 0
          }
        }
      },
      "cell_type": "code",
      "source": [
        "mydata = np.asarray(mydata)"
      ],
      "execution_count": 0,
      "outputs": []
    },
    {
      "metadata": {
        "id": "9OkONbsHlhsV",
        "colab_type": "code",
        "colab": {
          "autoexec": {
            "startup": false,
            "wait_interval": 0
          },
          "base_uri": "https://localhost:8080/",
          "height": 35
        },
        "outputId": "04207e13-cea2-423c-bdac-d4e773c372a4",
        "executionInfo": {
          "status": "ok",
          "timestamp": 1526352640865,
          "user_tz": 240,
          "elapsed": 260,
          "user": {
            "displayName": "Kai Matheson",
            "photoUrl": "//lh5.googleusercontent.com/-fFgNuDpDly4/AAAAAAAAAAI/AAAAAAAAAs8/f5ofK6BWKak/s50-c-k-no/photo.jpg",
            "userId": "107454492991575252026"
          }
        }
      },
      "cell_type": "code",
      "source": [
        "mydata.shape\n",
        "#Now each row represents an image and each column represents a pixel that takes a grayscale value between 0 and "
      ],
      "execution_count": 8,
      "outputs": [
        {
          "output_type": "execute_result",
          "data": {
            "text/plain": [
              "(908, 10000)"
            ]
          },
          "metadata": {
            "tags": []
          },
          "execution_count": 8
        }
      ]
    },
    {
      "metadata": {
        "id": "zjFiS2qQioHs",
        "colab_type": "code",
        "colab": {
          "autoexec": {
            "startup": false,
            "wait_interval": 0
          },
          "base_uri": "https://localhost:8080/",
          "height": 286
        },
        "outputId": "4711dba5-5133-47f9-f72d-6b1ca8df6374",
        "executionInfo": {
          "status": "ok",
          "timestamp": 1526352643377,
          "user_tz": 240,
          "elapsed": 378,
          "user": {
            "displayName": "Kai Matheson",
            "photoUrl": "//lh5.googleusercontent.com/-fFgNuDpDly4/AAAAAAAAAAI/AAAAAAAAAs8/f5ofK6BWKak/s50-c-k-no/photo.jpg",
            "userId": "107454492991575252026"
          }
        }
      },
      "cell_type": "code",
      "source": [
        "plt.imshow(mydata[3].reshape([100,100]))"
      ],
      "execution_count": 9,
      "outputs": [
        {
          "output_type": "execute_result",
          "data": {
            "text/plain": [
              "<matplotlib.image.AxesImage at 0x7fb24672dc50>"
            ]
          },
          "metadata": {
            "tags": []
          },
          "execution_count": 9
        },
        {
          "output_type": "display_data",
          "data": {
            "image/png": "[encoded data removed]",
            "text/plain": [
              "<matplotlib.figure.Figure at 0x7fb24dad6a10>"
            ]
          },
          "metadata": {
            "tags": []
          }
        }
      ]
    },
    {
      "metadata": {
        "id": "xJFnWFE1P4s-",
        "colab_type": "text"
      },
      "cell_type": "markdown",
      "source": [
        "https://medium.com/@mattiaspinelli/simple-generative-adversarial-network-gans-with-keras-1fe578e44a87"
      ]
    },
    {
      "metadata": {
        "id": "v5dTBg86T5_B",
        "colab_type": "code",
        "colab": {
          "autoexec": {
            "startup": false,
            "wait_interval": 0
          },
          "base_uri": "https://localhost:8080/",
          "height": 2291
        },
        "outputId": "ade690e0-fa76-4034-ebc7-5e8cd76c27e5",
        "executionInfo": {
          "status": "ok",
          "timestamp": 1526349892162,
          "user_tz": 240,
          "elapsed": 91418,
          "user": {
            "displayName": "Kai Matheson",
            "photoUrl": "//lh5.googleusercontent.com/-fFgNuDpDly4/AAAAAAAAAAI/AAAAAAAAAs8/f5ofK6BWKak/s50-c-k-no/photo.jpg",
            "userId": "107454492991575252026"
          }
        }
      },
      "cell_type": "code",
      "source": [
        "!pip install -r requirements.txt"
      ],
      "execution_count": 15,
      "outputs": [
        {
          "output_type": "stream",
          "text": [
            "Collecting absl-py==0.1.10 (from -r requirements.txt (line 1))\n",
            "\u001b[?25l  Downloading https://files.pythonhosted.org/packages/5f/b8/3dafc45f20a817ab9f042302646bcbe6f7e26e8a760871a85637e53a35ec/absl-py-0.1.10.tar.gz (79kB)\n",
            "\u001b[K    100% |████████████████████████████████| 81kB 2.6MB/s \n",
            "\u001b[?25hCollecting backports.functools-lru-cache==1.4 (from -r requirements.txt (line 2))\n",
            "  Downloading https://files.pythonhosted.org/packages/02/0b/91573feec859f794689fa46a62240526f4f1db829271ac2d98cf04a8efa2/backports.functools_lru_cache-1.4-py2.py3-none-any.whl\n",
            "Requirement already satisfied: backports.shutil-get-terminal-size==1.0.0 in /usr/local/lib/python2.7/dist-packages (from -r requirements.txt (line 3)) (1.0.0)\n",
            "Requirement already satisfied: backports.weakref==1.0.post1 in /usr/local/lib/python2.7/dist-packages (from -r requirements.txt (line 4)) (1.0.post1)\n",
            "Requirement already satisfied: bleach==1.5.0 in /usr/local/lib/python2.7/dist-packages (from -r requirements.txt (line 5)) (1.5.0)\n",
            "Requirement already satisfied: cycler==0.10.0 in /usr/local/lib/python2.7/dist-packages (from -r requirements.txt (line 6)) (0.10.0)\n",
            "Collecting decorator==4.2.1 (from -r requirements.txt (line 7))\n",
            "  Downloading https://files.pythonhosted.org/packages/e1/5a/53db15bf367d2028bdc6700dbdf1bdfab46b9f208b7516952817c0808118/decorator-4.2.1-py2.py3-none-any.whl\n",
            "Requirement already satisfied: enum34==1.1.6 in /usr/local/lib/python2.7/dist-packages (from -r requirements.txt (line 8)) (1.1.6)\n",
            "Requirement already satisfied: funcsigs==1.0.2 in /usr/local/lib/python2.7/dist-packages (from -r requirements.txt (line 9)) (1.0.2)\n",
            "Requirement already satisfied: futures==3.2.0 in /usr/local/lib/python2.7/dist-packages (from -r requirements.txt (line 10)) (3.2.0)\n",
            "Requirement already satisfied: html5lib==0.9999999 in /usr/local/lib/python2.7/dist-packages (from -r requirements.txt (line 11)) (0.9999999)\n",
            "Requirement already satisfied: ipython==5.5.0 in /usr/local/lib/python2.7/dist-packages (from -r requirements.txt (line 12)) (5.5.0)\n",
            "Requirement already satisfied: ipython-genutils==0.2.0 in /usr/local/lib/python2.7/dist-packages (from -r requirements.txt (line 13)) (0.2.0)\n",
            "Collecting Keras==2.1.2 (from -r requirements.txt (line 14))\n",
            "\u001b[?25l  Downloading https://files.pythonhosted.org/packages/68/89/58ee5f56a9c26957d97217db41780ebedca3154392cb903c3f8a08a52208/Keras-2.1.2-py2.py3-none-any.whl (304kB)\n",
            "\u001b[K    100% |████████████████████████████████| 307kB 4.9MB/s \n",
            "\u001b[?25hRequirement already satisfied: Markdown==2.6.11 in /usr/local/lib/python2.7/dist-packages (from -r requirements.txt (line 15)) (2.6.11)\n",
            "Requirement already satisfied: matplotlib==2.1.2 in /usr/local/lib/python2.7/dist-packages (from -r requirements.txt (line 16)) (2.1.2)\n",
            "Requirement already satisfied: mock==2.0.0 in /usr/local/lib/python2.7/dist-packages (from -r requirements.txt (line 17)) (2.0.0)\n",
            "Collecting numpy==1.14.0 (from -r requirements.txt (line 18))\n",
            "\u001b[?25l  Downloading https://files.pythonhosted.org/packages/0d/8a/e0223a40f980e0442a2045dcf79e4a8a90339593525599a0add318da2428/numpy-1.14.0-cp27-cp27mu-manylinux1_x86_64.whl (16.9MB)\n",
            "\u001b[K    63% |████████████████████▍           | 10.8MB 12.7MB/s eta 0:00:01"
          ],
          "name": "stdout"
        },
        {
          "output_type": "stream",
          "text": [
            "\u001b[K    100% |████████████████████████████████| 16.9MB 1.2MB/s \n",
            "\u001b[?25hCollecting pathlib2==2.3.0 (from -r requirements.txt (line 19))\n",
            "  Downloading https://files.pythonhosted.org/packages/74/4e/68add57f8b993bb5da70c22c7eebb4266c7b66cab15095a1578cc6a62b1a/pathlib2-2.3.0-py2.py3-none-any.whl\n",
            "Collecting pbr==3.1.1 (from -r requirements.txt (line 20))\n",
            "\u001b[?25l  Downloading https://files.pythonhosted.org/packages/0c/5d/b077dbf309993d52c1d71e6bf6fe443a8029ea215135ebbe0b1b10e7aefc/pbr-3.1.1-py2.py3-none-any.whl (99kB)\n",
            "\u001b[K    100% |████████████████████████████████| 102kB 16.8MB/s \n",
            "\u001b[?25hCollecting pexpect==4.3.1 (from -r requirements.txt (line 21))\n",
            "\u001b[?25l  Downloading https://files.pythonhosted.org/packages/49/d1/1503ce5e3c41690333949cb887cf569933ef8835aa30af7e3b1b07fbd867/pexpect-4.3.1-py2.py3-none-any.whl (55kB)\n",
            "\u001b[K    100% |████████████████████████████████| 61kB 18.0MB/s \n",
            "\u001b[?25hRequirement already satisfied: pickleshare==0.7.4 in /usr/local/lib/python2.7/dist-packages (from -r requirements.txt (line 22)) (0.7.4)\n",
            "Requirement already satisfied: prompt-toolkit==1.0.15 in /usr/local/lib/python2.7/dist-packages (from -r requirements.txt (line 23)) (1.0.15)\n",
            "Collecting protobuf==3.5.1 (from -r requirements.txt (line 24))\n",
            "\u001b[?25l  Downloading https://files.pythonhosted.org/packages/55/75/dbfc79855b727adf187672d3d184fe70db02101ea54b0307c3025fa57bfb/protobuf-3.5.1-cp27-cp27mu-manylinux1_x86_64.whl (6.4MB)\n",
            "\u001b[K    100% |████████████████████████████████| 6.4MB 7.2MB/s \n",
            "\u001b[?25hRequirement already satisfied: ptyprocess==0.5.2 in /usr/local/lib/python2.7/dist-packages (from -r requirements.txt (line 25)) (0.5.2)\n",
            "Collecting Pygments==2.2.0 (from -r requirements.txt (line 26))\n",
            "\u001b[?25l  Downloading https://files.pythonhosted.org/packages/02/ee/b6e02dc6529e82b75bb06823ff7d005b141037cb1416b10c6f00fc419dca/Pygments-2.2.0-py2.py3-none-any.whl (841kB)\n",
            "\u001b[K    100% |████████████████████████████████| 849kB 12.1MB/s \n",
            "\u001b[?25hRequirement already satisfied: pyparsing==2.2.0 in /usr/local/lib/python2.7/dist-packages (from -r requirements.txt (line 27)) (2.2.0)\n",
            "Collecting python-dateutil==2.6.1 (from -r requirements.txt (line 28))\n",
            "\u001b[?25l  Downloading https://files.pythonhosted.org/packages/4b/0d/7ed381ab4fe80b8ebf34411d14f253e1cf3e56e2820ffa1d8844b23859a2/python_dateutil-2.6.1-py2.py3-none-any.whl (194kB)\n",
            "\u001b[K    100% |████████████████████████████████| 194kB 10.6MB/s \n",
            "\u001b[?25hCollecting pytz==2017.3 (from -r requirements.txt (line 29))\n",
            "\u001b[?25l  Downloading https://files.pythonhosted.org/packages/a3/7f/e7d1acbd433b929168a4fb4182a2ff3c33653717195a26c1de099ad1ef29/pytz-2017.3-py2.py3-none-any.whl (511kB)\n",
            "\u001b[K    100% |████████████████████████████████| 512kB 13.5MB/s \n",
            "\u001b[?25hRequirement already satisfied: PyYAML==3.12 in /usr/local/lib/python2.7/dist-packages (from -r requirements.txt (line 30)) (3.12)\n",
            "Collecting scandir==1.6 (from -r requirements.txt (line 31))\n",
            "  Downloading https://files.pythonhosted.org/packages/77/3f/916f524f50ee65e3f465a280d2851bd63685250fddb3020c212b3977664d/scandir-1.6.tar.gz\n",
            "Collecting scipy==1.0.0 (from -r requirements.txt (line 32))\n",
            "\u001b[?25l  Downloading https://files.pythonhosted.org/packages/36/cd/cb310bed153d23f89427f642d52cb74c8465c1b02c3302a89c9c0abd93ce/scipy-1.0.0-cp27-cp27mu-manylinux1_x86_64.whl (46.7MB)\n",
            "\u001b[K    28% |█████████▏                      | 13.3MB 24.5MB/s eta 0:00:02"
          ],
          "name": "stdout"
        },
        {
          "output_type": "stream",
          "text": [
            "\u001b[K    100% |████████████████████████████████| 46.7MB 509kB/s \n",
            "\u001b[?25hRequirement already satisfied: simplegeneric==0.8.1 in /usr/local/lib/python2.7/dist-packages (from -r requirements.txt (line 33)) (0.8.1)\n",
            "Requirement already satisfied: six==1.11.0 in /usr/local/lib/python2.7/dist-packages (from -r requirements.txt (line 34)) (1.11.0)\n",
            "Collecting subprocess32==3.2.7 (from -r requirements.txt (line 35))\n",
            "\u001b[?25l  Downloading https://files.pythonhosted.org/packages/b8/2f/49e53b0d0e94611a2dc624a1ad24d41b6d94d0f1b0a078443407ea2214c2/subprocess32-3.2.7.tar.gz (54kB)\n",
            "\u001b[K    100% |████████████████████████████████| 61kB 15.9MB/s \n",
            "\u001b[?25hCollecting tensorflow==1.5.0 (from -r requirements.txt (line 36))\n",
            "\u001b[?25l  Downloading https://files.pythonhosted.org/packages/69/6d/09d4fbeedbafbc6768a94901f14ace4153adba4c2e2c6e6f2080f4a5d1a7/tensorflow-1.5.0-cp27-cp27mu-manylinux1_x86_64.whl (44.4MB)\n",
            "\u001b[K    100% |████████████████████████████████| 44.4MB 742kB/s \n",
            "\u001b[?25hCollecting tensorflow-tensorboard==1.5.0 (from -r requirements.txt (line 37))\n",
            "\u001b[?25l  Downloading https://files.pythonhosted.org/packages/43/02/38b13441ca50677d702ab79551a5ef66295de303b74f1dc9fd814d4e4b72/tensorflow_tensorboard-1.5.0-py2-none-any.whl (3.0MB)\n",
            "\u001b[K    100% |████████████████████████████████| 3.0MB 7.6MB/s \n",
            "\u001b[?25hRequirement already satisfied: traitlets==4.3.2 in /usr/local/lib/python2.7/dist-packages (from -r requirements.txt (line 38)) (4.3.2)\n",
            "Requirement already satisfied: wcwidth==0.1.7 in /usr/local/lib/python2.7/dist-packages (from -r requirements.txt (line 39)) (0.1.7)\n",
            "Requirement already satisfied: Werkzeug==0.14.1 in /usr/local/lib/python2.7/dist-packages (from -r requirements.txt (line 40)) (0.14.1)\n",
            "Requirement already satisfied: setuptools>=18.5 in /usr/local/lib/python2.7/dist-packages (from ipython==5.5.0->-r requirements.txt (line 12)) (39.1.0)\n",
            "Requirement already satisfied: wheel in /usr/local/lib/python2.7/dist-packages (from tensorflow==1.5.0->-r requirements.txt (line 36)) (0.31.0)\n",
            "Building wheels for collected packages: absl-py, scandir, subprocess32\n",
            "  Running setup.py bdist_wheel for absl-py ... \u001b[?25l-\b \bdone\n",
            "\u001b[?25h  Stored in directory: /content/.cache/pip/wheels/34/67/31/e47fa35f2ece9669183e961e85479cc0b86de258b192ca1f2f\n",
            "  Running setup.py bdist_wheel for scandir ... \u001b[?25l-\b \b\\\b \bdone\n",
            "\u001b[?25h  Stored in directory: /content/.cache/pip/wheels/d7/54/93/cbd031571c852fe58fddaf5631f67dc8d49b218c59519c7a39\n",
            "  Running setup.py bdist_wheel for subprocess32 ... \u001b[?25l-\b \b\\\b \bdone\n",
            "\u001b[?25h  Stored in directory: /content/.cache/pip/wheels/31/d3/4d/8151bf3fba7d27d0c9d03b78d4ff16097a8b62b298dc937c8d\n",
            "Successfully built absl-py scandir subprocess32\n",
            "Installing collected packages: absl-py, backports.functools-lru-cache, decorator, numpy, scipy, Keras, scandir, pathlib2, pbr, pexpect, protobuf, Pygments, python-dateutil, pytz, subprocess32, tensorflow-tensorboard, tensorflow\n",
            "  Found existing installation: absl-py 0.2.0\n",
            "    Uninstalling absl-py-0.2.0:\n",
            "      Successfully uninstalled absl-py-0.2.0\n",
            "  Found existing installation: backports.functools-lru-cache 1.5\n",
            "    Uninstalling backports.functools-lru-cache-1.5:\n",
            "      Successfully uninstalled backports.functools-lru-cache-1.5\n",
            "  Found existing installation: decorator 4.3.0\n",
            "    Uninstalling decorator-4.3.0:\n",
            "      Successfully uninstalled decorator-4.3.0\n",
            "  Found existing installation: numpy 1.14.3\n",
            "    Uninstalling numpy-1.14.3:\n",
            "      Successfully uninstalled numpy-1.14.3\n",
            "  Found existing installation: scipy 0.19.1\n"
          ],
          "name": "stdout"
        },
        {
          "output_type": "stream",
          "text": [
            "    Uninstalling scipy-0.19.1:\n",
            "      Successfully uninstalled scipy-0.19.1\n",
            "  Found existing installation: Keras 2.1.6\n",
            "    Uninstalling Keras-2.1.6:\n",
            "      Successfully uninstalled Keras-2.1.6\n",
            "  Found existing installation: scandir 1.7\n",
            "    Uninstalling scandir-1.7:\n",
            "      Successfully uninstalled scandir-1.7\n",
            "  Found existing installation: pathlib2 2.3.2\n",
            "    Uninstalling pathlib2-2.3.2:\n",
            "      Successfully uninstalled pathlib2-2.3.2\n",
            "  Found existing installation: pbr 4.0.2\n",
            "    Uninstalling pbr-4.0.2:\n",
            "      Successfully uninstalled pbr-4.0.2\n",
            "  Found existing installation: pexpect 4.5.0\n",
            "    Uninstalling pexpect-4.5.0:\n",
            "      Successfully uninstalled pexpect-4.5.0\n",
            "  Found existing installation: protobuf 3.5.2.post1\n",
            "    Uninstalling protobuf-3.5.2.post1:\n",
            "      Successfully uninstalled protobuf-3.5.2.post1\n",
            "  Found existing installation: Pygments 2.1.3\n",
            "    Uninstalling Pygments-2.1.3:\n",
            "      Successfully uninstalled Pygments-2.1.3\n",
            "  Found existing installation: python-dateutil 2.5.3\n",
            "    Uninstalling python-dateutil-2.5.3:\n",
            "      Successfully uninstalled python-dateutil-2.5.3\n",
            "  Found existing installation: pytz 2018.4\n",
            "    Uninstalling pytz-2018.4:\n",
            "      Successfully uninstalled pytz-2018.4\n",
            "  Found existing installation: subprocess32 3.5.0\n",
            "    Uninstalling subprocess32-3.5.0:\n",
            "      Successfully uninstalled subprocess32-3.5.0\n",
            "  Found existing installation: tensorflow 1.7.0\n",
            "    Uninstalling tensorflow-1.7.0:\n",
            "      Successfully uninstalled tensorflow-1.7.0\n",
            "Successfully installed Keras-2.1.2 Pygments-2.2.0 absl-py-0.1.10 backports.functools-lru-cache-1.4 decorator-4.2.1 numpy-1.14.0 pathlib2-2.3.0 pbr-3.1.1 pexpect-4.3.1 protobuf-3.5.1 python-dateutil-2.6.1 pytz-2017.3 scandir-1.6 scipy-1.0.0 subprocess32-3.2.7 tensorflow-1.5.0 tensorflow-tensorboard-1.5.0\n"
          ],
          "name": "stdout"
        }
      ]
    },
    {
      "metadata": {
        "id": "PIFZ5-umYdO5",
        "colab_type": "code",
        "colab": {
          "autoexec": {
            "startup": false,
            "wait_interval": 0
          },
          "base_uri": "https://localhost:8080/",
          "height": 305
        },
        "outputId": "c80bf5b1-c7a1-47e0-d782-0f050baad0a9",
        "executionInfo": {
          "status": "error",
          "timestamp": 1526350362963,
          "user_tz": 240,
          "elapsed": 426,
          "user": {
            "displayName": "Kai Matheson",
            "photoUrl": "//lh5.googleusercontent.com/-fFgNuDpDly4/AAAAAAAAAAI/AAAAAAAAAs8/f5ofK6BWKak/s50-c-k-no/photo.jpg",
            "userId": "107454492991575252026"
          }
        }
      },
      "cell_type": "code",
      "source": [
        "import os\n",
        "os.makedirs('images')"
      ],
      "execution_count": 7,
      "outputs": [
        {
          "output_type": "error",
          "ename": "OSError",
          "evalue": "ignored",
          "traceback": [
            "\u001b[0;31m\u001b[0m",
            "\u001b[0;31mOSError\u001b[0mTraceback (most recent call last)",
            "\u001b[0;32m<ipython-input-7-f03ef9887f13>\u001b[0m in \u001b[0;36m<module>\u001b[0;34m()\u001b[0m\n\u001b[1;32m      1\u001b[0m \u001b[0;32mimport\u001b[0m \u001b[0mos\u001b[0m\u001b[0;34m\u001b[0m\u001b[0m\n\u001b[0;32m----> 2\u001b[0;31m \u001b[0mos\u001b[0m\u001b[0;34m.\u001b[0m\u001b[0mmakedirs\u001b[0m\u001b[0;34m(\u001b[0m\u001b[0;34m'images'\u001b[0m\u001b[0;34m)\u001b[0m\u001b[0;34m\u001b[0m\u001b[0m\n\u001b[0m",
            "\u001b[0;32m/usr/lib/python2.7/os.pyc\u001b[0m in \u001b[0;36mmakedirs\u001b[0;34m(name, mode)\u001b[0m\n\u001b[1;32m    155\u001b[0m         \u001b[0;32mif\u001b[0m \u001b[0mtail\u001b[0m \u001b[0;34m==\u001b[0m \u001b[0mcurdir\u001b[0m\u001b[0;34m:\u001b[0m           \u001b[0;31m# xxx/newdir/. exists if xxx/newdir exists\u001b[0m\u001b[0;34m\u001b[0m\u001b[0m\n\u001b[1;32m    156\u001b[0m             \u001b[0;32mreturn\u001b[0m\u001b[0;34m\u001b[0m\u001b[0m\n\u001b[0;32m--> 157\u001b[0;31m     \u001b[0mmkdir\u001b[0m\u001b[0;34m(\u001b[0m\u001b[0mname\u001b[0m\u001b[0;34m,\u001b[0m \u001b[0mmode\u001b[0m\u001b[0;34m)\u001b[0m\u001b[0;34m\u001b[0m\u001b[0m\n\u001b[0m\u001b[1;32m    158\u001b[0m \u001b[0;34m\u001b[0m\u001b[0m\n\u001b[1;32m    159\u001b[0m \u001b[0;32mdef\u001b[0m \u001b[0mremovedirs\u001b[0m\u001b[0;34m(\u001b[0m\u001b[0mname\u001b[0m\u001b[0;34m)\u001b[0m\u001b[0;34m:\u001b[0m\u001b[0;34m\u001b[0m\u001b[0m\n",
            "\u001b[0;31mOSError\u001b[0m: [Errno 17] File exists: 'images'"
          ]
        }
      ]
    },
    {
      "metadata": {
        "id": "ii-R4RHdQJka",
        "colab_type": "code",
        "colab": {
          "autoexec": {
            "startup": false,
            "wait_interval": 0
          },
          "base_uri": "https://localhost:8080/",
          "height": 3868
        },
        "outputId": "9b285de7-48d0-43f6-9c1c-2461841a9a0e",
        "executionInfo": {
          "status": "ok",
          "timestamp": 1526353891245,
          "user_tz": 240,
          "elapsed": 1150432,
          "user": {
            "displayName": "Kai Matheson",
            "photoUrl": "//lh5.googleusercontent.com/-fFgNuDpDly4/AAAAAAAAAAI/AAAAAAAAAs8/f5ofK6BWKak/s50-c-k-no/photo.jpg",
            "userId": "107454492991575252026"
          }
        }
      },
      "cell_type": "code",
      "source": [
        "import numpy as np\n",
        "\n",
        "from IPython.core.debugger import Tracer\n",
        "\n",
        "#from keras.datasets import mnist\n",
        "from keras.layers import Input, Dense, Reshape, Flatten, Dropout\n",
        "from keras.layers import BatchNormalization\n",
        "from keras.layers.advanced_activations import LeakyReLU\n",
        "from keras.models import Sequential\n",
        "from keras.optimizers import Adam\n",
        "\n",
        "import matplotlib.pyplot as plt\n",
        "plt.switch_backend('agg')   # allows code to run without a system DISPLAY\n",
        "\n",
        "\n",
        "class GAN(object):\n",
        "    \"\"\" Generative Adversarial Network class \"\"\"\n",
        "    def __init__(self, width=100, height=100, channels=1):\n",
        "\n",
        "        self.width = width\n",
        "        self.height = height\n",
        "        self.channels = channels\n",
        "\n",
        "        self.shape = (self.width, self.height, self.channels)\n",
        "\n",
        "        self.optimizer = Adam(lr=0.0002, beta_1=0.5, decay=8e-8)\n",
        "\n",
        "        self.G = self.__generator()\n",
        "        self.G.compile(loss='binary_crossentropy', optimizer=self.optimizer)\n",
        "\n",
        "        self.D = self.__discriminator()\n",
        "        self.D.compile(loss='binary_crossentropy', optimizer=self.optimizer, metrics=['accuracy'])\n",
        "\n",
        "        self.stacked_generator_discriminator = self.__stacked_generator_discriminator()\n",
        "\n",
        "        self.stacked_generator_discriminator.compile(loss='binary_crossentropy', optimizer=self.optimizer)\n",
        "\n",
        "\n",
        "    def __generator(self):\n",
        "        \"\"\" Declare generator \"\"\"\n",
        "\n",
        "        model = Sequential()\n",
        "        model.add(Dense(256, input_shape=(100,)))\n",
        "        model.add(LeakyReLU(alpha=0.2))\n",
        "        model.add(BatchNormalization(momentum=0.8))\n",
        "        model.add(Dense(512))\n",
        "        model.add(LeakyReLU(alpha=0.2))\n",
        "        model.add(BatchNormalization(momentum=0.8))\n",
        "        model.add(Dense(1024))\n",
        "        model.add(LeakyReLU(alpha=0.2))\n",
        "        model.add(BatchNormalization(momentum=0.8))\n",
        "        model.add(Dense(self.width  * self.height * self.channels, activation='tanh'))\n",
        "        model.add(Reshape((self.width, self.height, self.channels)))\n",
        "\n",
        "        return model\n",
        "\n",
        "    def __discriminator(self):\n",
        "        \"\"\" Declare discriminator \"\"\"\n",
        "\n",
        "        model = Sequential()\n",
        "        model.add(Flatten(input_shape=self.shape))\n",
        "        model.add(Dense((int(self.width * self.height * self.channels)), input_shape=self.shape))\n",
        "        model.add(LeakyReLU(alpha=0.2))\n",
        "        model.add(Dense((int((self.width * self.height * self.channels)/2))))\n",
        "        model.add(LeakyReLU(alpha=0.2))\n",
        "        model.add(Dense(1, activation='sigmoid'))\n",
        "        model.summary()\n",
        "\n",
        "        return model\n",
        "\n",
        "    def __stacked_generator_discriminator(self):\n",
        "\n",
        "        self.D.trainable = False\n",
        "\n",
        "        model = Sequential()\n",
        "        model.add(self.G)\n",
        "        model.add(self.D)\n",
        "\n",
        "        return model\n",
        "\n",
        "    def train(self, X_train, epochs=201, batch = 32, save_interval = 10):\n",
        "\n",
        "        for cnt in range(epochs):\n",
        "\n",
        "            ## train discriminator\n",
        "            random_index = np.random.randint(0, len(X_train) - batch/2)\n",
        "            legit_images = X_train[int(random_index) : int(random_index + batch//2)].reshape(batch//2, self.width, self.height, self.channels)\n",
        "\n",
        "            gen_noise = np.random.normal(0, 1, (batch//2, 100))\n",
        "            syntetic_images = self.G.predict(gen_noise)\n",
        "\n",
        "            x_combined_batch = np.concatenate((legit_images, syntetic_images))\n",
        "            y_combined_batch = np.concatenate((np.ones((batch/2, 1)), np.zeros((batch/2, 1))))\n",
        "\n",
        "            d_loss = self.D.train_on_batch(x_combined_batch, y_combined_batch)\n",
        "\n",
        "\n",
        "            # train generator\n",
        "\n",
        "            noise = np.random.normal(0, 1, (batch, 100))\n",
        "            y_mislabled = np.ones((batch, 1))\n",
        "\n",
        "            g_loss = self.stacked_generator_discriminator.train_on_batch(noise, y_mislabled)\n",
        "\n",
        "            print ('epoch: %d, [Discriminator :: d_loss: %f], [ Generator :: loss: %f]' % (cnt, d_loss[0], g_loss))\n",
        "\n",
        "            if cnt % save_interval == 0:\n",
        "                self.plot_images(save2file=True, step=cnt)\n",
        "\n",
        "\n",
        "    def plot_images(self, save2file=False, samples=16, step=0):\n",
        "        ''' Plot and generated images '''\n",
        "        filename = \"images/maps_%d.png\" % step\n",
        "        noise = np.random.normal(0, 1, (samples, 100))\n",
        "\n",
        "        images = self.G.predict(noise)\n",
        "\n",
        "        plt.figure(figsize=(10, 10))\n",
        "        \n",
        "        for i in range(images.shape[0]):\n",
        "          image = images[i,:,:,:]\n",
        "          image = np.reshape(image, [self.height, self.width])\n",
        "          plt.imshow(image)\n",
        "        \n",
        "        #for i in range(images.shape[0]):\n",
        "            #plt.subplot(4, 4, i+1)\n",
        "            #plt.subplot(1, 1, i+1)\n",
        "            #image = images[i, :, :, :]\n",
        "            #image = np.reshape(image, [self.height, self.width])\n",
        "            #plt.imshow(image, cmap='gray')\n",
        "            #plt.imshow(image)\n",
        "            #plt.axis('off')\n",
        "        plt.tight_layout()\n",
        "\n",
        "        if save2file:\n",
        "            plt.savefig(filename)\n",
        "            plt.close('all')\n",
        "        else:\n",
        "            plt.show()\n",
        "\n",
        "\n",
        "if __name__ == '__main__':\n",
        "    # (X_train, _), (_, _) = mnist.load_data()\n",
        "\n",
        "    # Rescale -1 to 1\n",
        "    X_train = (mydata.astype(np.float32) - 127.5) / 127.5\n",
        "    X_train = np.expand_dims(X_train, axis=3)\n",
        "\n",
        "\n",
        "    gan = GAN()\n",
        "    gan.train(X_train)"
      ],
      "execution_count": 12,
      "outputs": [
        {
          "output_type": "stream",
          "text": [
            "/usr/local/lib/python2.7/dist-packages/ipykernel_launcher.py:147: DeprecationWarning: Both axis > a.ndim and axis < -a.ndim - 1 are deprecated and will raise an AxisError in the future.\n"
          ],
          "name": "stderr"
        },
        {
          "output_type": "stream",
          "text": [
            "_________________________________________________________________\n",
            "Layer (type)                 Output Shape              Param #   \n",
            "=================================================================\n",
            "flatten_3 (Flatten)          (None, 10000)             0         \n",
            "_________________________________________________________________\n",
            "dense_19 (Dense)             (None, 10000)             100010000 \n",
            "_________________________________________________________________\n",
            "leaky_re_lu_14 (LeakyReLU)   (None, 10000)             0         \n",
            "_________________________________________________________________\n",
            "dense_20 (Dense)             (None, 5000)              50005000  \n",
            "_________________________________________________________________\n",
            "leaky_re_lu_15 (LeakyReLU)   (None, 5000)              0         \n",
            "_________________________________________________________________\n",
            "dense_21 (Dense)             (None, 1)                 5001      \n",
            "=================================================================\n",
            "Total params: 150,020,001\n",
            "Trainable params: 150,020,001\n",
            "Non-trainable params: 0\n",
            "_________________________________________________________________\n",
            "epoch: 0, [Discriminator :: d_loss: 0.762183], [ Generator :: loss: 0.022997]\n",
            "epoch: 1, [Discriminator :: d_loss: 0.519435], [ Generator :: loss: 0.240912]\n",
            "epoch: 2, [Discriminator :: d_loss: 0.840187], [ Generator :: loss: 1.618360]\n",
            "epoch: 3, [Discriminator :: d_loss: 0.455083], [ Generator :: loss: 3.958557]\n",
            "epoch: 4, [Discriminator :: d_loss: 0.181113], [ Generator :: loss: 3.853491]\n",
            "epoch: 5, [Discriminator :: d_loss: 0.169943], [ Generator :: loss: 5.994815]\n",
            "epoch: 6, [Discriminator :: d_loss: 0.286630], [ Generator :: loss: 4.370028]\n",
            "epoch: 7, [Discriminator :: d_loss: 0.578686], [ Generator :: loss: 7.262740]\n",
            "epoch: 8, [Discriminator :: d_loss: 0.820624], [ Generator :: loss: 8.713454]\n",
            "epoch: 9, [Discriminator :: d_loss: 3.037337], [ Generator :: loss: 9.793040]\n",
            "epoch: 10, [Discriminator :: d_loss: 1.460815], [ Generator :: loss: 10.426081]\n",
            "epoch: 11, [Discriminator :: d_loss: 0.840640], [ Generator :: loss: 12.162194]\n",
            "epoch: 12, [Discriminator :: d_loss: 2.592736], [ Generator :: loss: 11.090040]\n",
            "epoch: 13, [Discriminator :: d_loss: 2.106884], [ Generator :: loss: 12.457128]\n",
            "epoch: 14, [Discriminator :: d_loss: 2.110855], [ Generator :: loss: 14.465931]\n",
            "epoch: 15, [Discriminator :: d_loss: 1.200672], [ Generator :: loss: 14.544203]\n",
            "epoch: 16, [Discriminator :: d_loss: 1.609653], [ Generator :: loss: 12.438391]\n",
            "epoch: 17, [Discriminator :: d_loss: 1.016075], [ Generator :: loss: 9.448982]\n",
            "epoch: 18, [Discriminator :: d_loss: 2.211651], [ Generator :: loss: 9.860968]\n",
            "epoch: 19, [Discriminator :: d_loss: 3.062993], [ Generator :: loss: 11.288993]\n",
            "epoch: 20, [Discriminator :: d_loss: 2.490998], [ Generator :: loss: 8.973107]\n",
            "epoch: 21, [Discriminator :: d_loss: 4.987599], [ Generator :: loss: 10.752125]\n",
            "epoch: 22, [Discriminator :: d_loss: 4.489286], [ Generator :: loss: 10.289949]\n",
            "epoch: 23, [Discriminator :: d_loss: 3.380046], [ Generator :: loss: 7.728142]\n",
            "epoch: 24, [Discriminator :: d_loss: 4.157463], [ Generator :: loss: 9.532688]\n",
            "epoch: 25, [Discriminator :: d_loss: 4.495743], [ Generator :: loss: 9.568659]\n",
            "epoch: 26, [Discriminator :: d_loss: 3.937136], [ Generator :: loss: 10.073810]\n",
            "epoch: 27, [Discriminator :: d_loss: 4.042625], [ Generator :: loss: 9.066534]\n",
            "epoch: 28, [Discriminator :: d_loss: 4.987486], [ Generator :: loss: 9.570119]\n",
            "epoch: 29, [Discriminator :: d_loss: 4.376314], [ Generator :: loss: 9.571206]\n",
            "epoch: 30, [Discriminator :: d_loss: 2.397523], [ Generator :: loss: 11.282745]\n",
            "epoch: 31, [Discriminator :: d_loss: 5.472293], [ Generator :: loss: 15.580841]\n",
            "epoch: 32, [Discriminator :: d_loss: 7.529572], [ Generator :: loss: 15.559896]\n",
            "epoch: 33, [Discriminator :: d_loss: 8.059048], [ Generator :: loss: 16.118095]\n",
            "epoch: 34, [Discriminator :: d_loss: 8.176159], [ Generator :: loss: 15.341084]\n",
            "epoch: 35, [Discriminator :: d_loss: 8.064631], [ Generator :: loss: 15.422134]\n",
            "epoch: 36, [Discriminator :: d_loss: 7.544195], [ Generator :: loss: 12.917618]\n"
          ],
          "name": "stdout"
        },
        {
          "output_type": "stream",
          "text": [
            "epoch: 37, [Discriminator :: d_loss: 8.059048], [ Generator :: loss: 14.861616]\n",
            "epoch: 38, [Discriminator :: d_loss: 7.294455], [ Generator :: loss: 14.607023]\n",
            "epoch: 39, [Discriminator :: d_loss: 7.544423], [ Generator :: loss: 13.095976]\n",
            "epoch: 40, [Discriminator :: d_loss: 8.433771], [ Generator :: loss: 14.638198]\n",
            "epoch: 41, [Discriminator :: d_loss: 7.555360], [ Generator :: loss: 15.526659]\n",
            "epoch: 42, [Discriminator :: d_loss: 7.830024], [ Generator :: loss: 15.525492]\n",
            "epoch: 43, [Discriminator :: d_loss: 7.853681], [ Generator :: loss: 15.171833]\n",
            "epoch: 44, [Discriminator :: d_loss: 7.100206], [ Generator :: loss: 15.047208]\n",
            "epoch: 45, [Discriminator :: d_loss: 7.936990], [ Generator :: loss: 15.614405]\n",
            "epoch: 46, [Discriminator :: d_loss: 8.397877], [ Generator :: loss: 15.764191]\n",
            "epoch: 47, [Discriminator :: d_loss: 6.987127], [ Generator :: loss: 11.949937]\n",
            "epoch: 48, [Discriminator :: d_loss: 3.053765], [ Generator :: loss: 12.088572]\n",
            "epoch: 49, [Discriminator :: d_loss: 2.329096], [ Generator :: loss: 10.577499]\n",
            "epoch: 50, [Discriminator :: d_loss: 2.508060], [ Generator :: loss: 11.559111]\n",
            "epoch: 51, [Discriminator :: d_loss: 4.988045], [ Generator :: loss: 12.592361]\n",
            "epoch: 52, [Discriminator :: d_loss: 4.116906], [ Generator :: loss: 11.598843]\n",
            "epoch: 53, [Discriminator :: d_loss: 4.075755], [ Generator :: loss: 13.997471]\n",
            "epoch: 54, [Discriminator :: d_loss: 2.912034], [ Generator :: loss: 14.627519]\n",
            "epoch: 55, [Discriminator :: d_loss: 3.949372], [ Generator :: loss: 13.454386]\n",
            "epoch: 56, [Discriminator :: d_loss: 2.508384], [ Generator :: loss: 11.601961]\n",
            "epoch: 57, [Discriminator :: d_loss: 5.480197], [ Generator :: loss: 10.073810]\n",
            "epoch: 58, [Discriminator :: d_loss: 4.489287], [ Generator :: loss: 9.934483]\n",
            "epoch: 59, [Discriminator :: d_loss: 2.497566], [ Generator :: loss: 10.073810]\n",
            "epoch: 60, [Discriminator :: d_loss: 4.794123], [ Generator :: loss: 9.570119]\n",
            "epoch: 61, [Discriminator :: d_loss: 2.533324], [ Generator :: loss: 9.066429]\n",
            "epoch: 62, [Discriminator :: d_loss: 3.503869], [ Generator :: loss: 11.030882]\n",
            "epoch: 63, [Discriminator :: d_loss: 5.003959], [ Generator :: loss: 9.066429]\n",
            "epoch: 64, [Discriminator :: d_loss: 1.226191], [ Generator :: loss: 9.398415]\n",
            "epoch: 65, [Discriminator :: d_loss: 3.395385], [ Generator :: loss: 9.066532]\n",
            "epoch: 66, [Discriminator :: d_loss: 2.507845], [ Generator :: loss: 11.584881]\n",
            "epoch: 67, [Discriminator :: d_loss: 3.769852], [ Generator :: loss: 10.252993]\n",
            "epoch: 68, [Discriminator :: d_loss: 3.393151], [ Generator :: loss: 10.073810]\n",
            "epoch: 69, [Discriminator :: d_loss: 3.012638], [ Generator :: loss: 9.570120]\n",
            "epoch: 70, [Discriminator :: d_loss: 3.503870], [ Generator :: loss: 8.565709]\n",
            "epoch: 71, [Discriminator :: d_loss: 2.994688], [ Generator :: loss: 11.650187]\n",
            "epoch: 72, [Discriminator :: d_loss: 2.495198], [ Generator :: loss: 10.073810]\n",
            "epoch: 73, [Discriminator :: d_loss: 4.757502], [ Generator :: loss: 9.066429]\n",
            "epoch: 74, [Discriminator :: d_loss: 2.782613], [ Generator :: loss: 10.577499]\n",
            "epoch: 75, [Discriminator :: d_loss: 2.496489], [ Generator :: loss: 10.299797]\n",
            "epoch: 76, [Discriminator :: d_loss: 2.994688], [ Generator :: loss: 10.577499]\n",
            "epoch: 77, [Discriminator :: d_loss: 3.291731], [ Generator :: loss: 9.094212]\n",
            "epoch: 78, [Discriminator :: d_loss: 4.500268], [ Generator :: loss: 12.088572]\n",
            "epoch: 79, [Discriminator :: d_loss: 3.007818], [ Generator :: loss: 9.868521]\n",
            "epoch: 80, [Discriminator :: d_loss: 3.006031], [ Generator :: loss: 12.088572]\n",
            "epoch: 81, [Discriminator :: d_loss: 3.509360], [ Generator :: loss: 10.227741]\n",
            "epoch: 82, [Discriminator :: d_loss: 3.758365], [ Generator :: loss: 9.591650]\n",
            "epoch: 83, [Discriminator :: d_loss: 5.496668], [ Generator :: loss: 8.060412]\n",
            "epoch: 84, [Discriminator :: d_loss: 3.498379], [ Generator :: loss: 10.577499]\n",
            "epoch: 85, [Discriminator :: d_loss: 2.989204], [ Generator :: loss: 10.577272]\n"
          ],
          "name": "stdout"
        },
        {
          "output_type": "stream",
          "text": [
            "epoch: 86, [Discriminator :: d_loss: 4.987486], [ Generator :: loss: 8.059048]\n",
            "epoch: 87, [Discriminator :: d_loss: 4.998467], [ Generator :: loss: 8.908289]\n",
            "epoch: 88, [Discriminator :: d_loss: 5.000255], [ Generator :: loss: 8.562738]\n",
            "epoch: 89, [Discriminator :: d_loss: 4.489286], [ Generator :: loss: 8.562739]\n",
            "epoch: 90, [Discriminator :: d_loss: 1.992803], [ Generator :: loss: 9.308077]\n",
            "epoch: 91, [Discriminator :: d_loss: 4.998468], [ Generator :: loss: 9.066429]\n",
            "epoch: 92, [Discriminator :: d_loss: 5.994867], [ Generator :: loss: 9.066429]\n",
            "epoch: 93, [Discriminator :: d_loss: 4.500268], [ Generator :: loss: 7.555357]\n",
            "epoch: 94, [Discriminator :: d_loss: 1.980734], [ Generator :: loss: 8.332739]\n",
            "epoch: 95, [Discriminator :: d_loss: 4.381424], [ Generator :: loss: 8.045871]\n",
            "epoch: 96, [Discriminator :: d_loss: 4.987494], [ Generator :: loss: 9.066429]\n",
            "epoch: 97, [Discriminator :: d_loss: 3.991087], [ Generator :: loss: 9.066429]\n",
            "epoch: 98, [Discriminator :: d_loss: 4.992977], [ Generator :: loss: 8.562738]\n",
            "epoch: 99, [Discriminator :: d_loss: 6.487576], [ Generator :: loss: 8.059048]\n",
            "epoch: 100, [Discriminator :: d_loss: 4.002069], [ Generator :: loss: 9.066429]\n",
            "epoch: 101, [Discriminator :: d_loss: 5.198254], [ Generator :: loss: 7.555357]\n",
            "epoch: 102, [Discriminator :: d_loss: 4.500268], [ Generator :: loss: 7.607838]\n",
            "epoch: 103, [Discriminator :: d_loss: 1.992798], [ Generator :: loss: 8.059048]\n",
            "epoch: 104, [Discriminator :: d_loss: 3.498379], [ Generator :: loss: 7.051667]\n",
            "epoch: 105, [Discriminator :: d_loss: 4.489286], [ Generator :: loss: 6.547976]\n",
            "epoch: 106, [Discriminator :: d_loss: 2.490998], [ Generator :: loss: 8.059048]\n",
            "epoch: 107, [Discriminator :: d_loss: 5.983885], [ Generator :: loss: 8.059048]\n",
            "epoch: 108, [Discriminator :: d_loss: 4.703412], [ Generator :: loss: 8.562738]\n",
            "epoch: 109, [Discriminator :: d_loss: 3.487399], [ Generator :: loss: 8.059048]\n",
            "epoch: 110, [Discriminator :: d_loss: 3.991087], [ Generator :: loss: 8.060324]\n",
            "epoch: 111, [Discriminator :: d_loss: 3.487397], [ Generator :: loss: 8.059048]\n",
            "epoch: 112, [Discriminator :: d_loss: 2.989197], [ Generator :: loss: 7.052583]\n",
            "epoch: 113, [Discriminator :: d_loss: 4.003854], [ Generator :: loss: 7.051667]\n",
            "epoch: 114, [Discriminator :: d_loss: 4.489286], [ Generator :: loss: 8.059048]\n",
            "epoch: 115, [Discriminator :: d_loss: 4.981996], [ Generator :: loss: 8.059048]\n",
            "epoch: 116, [Discriminator :: d_loss: 5.994866], [ Generator :: loss: 7.555357]\n",
            "epoch: 117, [Discriminator :: d_loss: 2.989197], [ Generator :: loss: 8.059048]\n",
            "epoch: 118, [Discriminator :: d_loss: 4.981996], [ Generator :: loss: 7.555357]\n",
            "epoch: 119, [Discriminator :: d_loss: 4.987486], [ Generator :: loss: 8.562738]\n",
            "epoch: 120, [Discriminator :: d_loss: 2.778630], [ Generator :: loss: 8.059048]\n",
            "epoch: 121, [Discriminator :: d_loss: 4.489286], [ Generator :: loss: 8.562738]\n",
            "epoch: 122, [Discriminator :: d_loss: 3.991087], [ Generator :: loss: 7.051667]\n",
            "epoch: 123, [Discriminator :: d_loss: 3.487397], [ Generator :: loss: 8.059048]\n",
            "epoch: 124, [Discriminator :: d_loss: 5.178988], [ Generator :: loss: 7.051667]\n",
            "epoch: 125, [Discriminator :: d_loss: 4.494778], [ Generator :: loss: 8.562738]\n",
            "epoch: 126, [Discriminator :: d_loss: 3.094840], [ Generator :: loss: 8.059048]\n",
            "epoch: 127, [Discriminator :: d_loss: 2.989197], [ Generator :: loss: 7.739710]\n",
            "epoch: 128, [Discriminator :: d_loss: 4.987486], [ Generator :: loss: 8.059048]\n",
            "epoch: 129, [Discriminator :: d_loss: 4.987486], [ Generator :: loss: 9.066429]\n",
            "epoch: 130, [Discriminator :: d_loss: 4.494777], [ Generator :: loss: 8.059048]\n",
            "epoch: 131, [Discriminator :: d_loss: 5.978395], [ Generator :: loss: 7.051667]\n",
            "epoch: 132, [Discriminator :: d_loss: 5.502158], [ Generator :: loss: 6.044286]\n",
            "epoch: 133, [Discriminator :: d_loss: 4.483796], [ Generator :: loss: 8.333073]\n",
            "epoch: 134, [Discriminator :: d_loss: 4.992977], [ Generator :: loss: 9.498060]\n"
          ],
          "name": "stdout"
        },
        {
          "output_type": "stream",
          "text": [
            "epoch: 135, [Discriminator :: d_loss: 4.992977], [ Generator :: loss: 7.555357]\n",
            "epoch: 136, [Discriminator :: d_loss: 6.493066], [ Generator :: loss: 7.555357]\n",
            "epoch: 137, [Discriminator :: d_loss: 3.996578], [ Generator :: loss: 6.776927]\n",
            "epoch: 138, [Discriminator :: d_loss: 3.492887], [ Generator :: loss: 7.051667]\n",
            "epoch: 139, [Discriminator :: d_loss: 3.487399], [ Generator :: loss: 8.059048]\n",
            "epoch: 140, [Discriminator :: d_loss: 3.991087], [ Generator :: loss: 6.547976]\n",
            "epoch: 141, [Discriminator :: d_loss: 4.489287], [ Generator :: loss: 7.555357]\n",
            "epoch: 142, [Discriminator :: d_loss: 3.487397], [ Generator :: loss: 8.562738]\n",
            "epoch: 143, [Discriminator :: d_loss: 4.035696], [ Generator :: loss: 8.562738]\n",
            "epoch: 144, [Discriminator :: d_loss: 6.493067], [ Generator :: loss: 8.562738]\n",
            "epoch: 145, [Discriminator :: d_loss: 6.980284], [ Generator :: loss: 8.562738]\n",
            "epoch: 146, [Discriminator :: d_loss: 4.992977], [ Generator :: loss: 8.059048]\n",
            "epoch: 147, [Discriminator :: d_loss: 3.991087], [ Generator :: loss: 9.066429]\n",
            "epoch: 148, [Discriminator :: d_loss: 4.650236], [ Generator :: loss: 8.863234]\n",
            "epoch: 149, [Discriminator :: d_loss: 3.487409], [ Generator :: loss: 7.555377]\n",
            "epoch: 150, [Discriminator :: d_loss: 5.485685], [ Generator :: loss: 9.066428]\n",
            "epoch: 151, [Discriminator :: d_loss: 5.485685], [ Generator :: loss: 8.131403]\n",
            "epoch: 152, [Discriminator :: d_loss: 3.487397], [ Generator :: loss: 7.555357]\n",
            "epoch: 153, [Discriminator :: d_loss: 3.487397], [ Generator :: loss: 6.547976]\n",
            "epoch: 154, [Discriminator :: d_loss: 4.483796], [ Generator :: loss: 8.059048]\n",
            "epoch: 155, [Discriminator :: d_loss: 4.981996], [ Generator :: loss: 7.051667]\n",
            "epoch: 156, [Discriminator :: d_loss: 5.811199], [ Generator :: loss: 7.555357]\n",
            "epoch: 157, [Discriminator :: d_loss: 6.493067], [ Generator :: loss: 7.555357]\n",
            "epoch: 158, [Discriminator :: d_loss: 3.996578], [ Generator :: loss: 6.547976]\n",
            "epoch: 159, [Discriminator :: d_loss: 3.487397], [ Generator :: loss: 8.562738]\n",
            "epoch: 160, [Discriminator :: d_loss: 2.989197], [ Generator :: loss: 6.547976]\n",
            "epoch: 161, [Discriminator :: d_loss: 4.489286], [ Generator :: loss: 9.066429]\n",
            "epoch: 162, [Discriminator :: d_loss: 6.482085], [ Generator :: loss: 7.555418]\n",
            "epoch: 163, [Discriminator :: d_loss: 4.368999], [ Generator :: loss: 6.547976]\n",
            "epoch: 164, [Discriminator :: d_loss: 4.981996], [ Generator :: loss: 7.350128]\n",
            "epoch: 165, [Discriminator :: d_loss: 3.985596], [ Generator :: loss: 7.555357]\n",
            "epoch: 166, [Discriminator :: d_loss: 4.489286], [ Generator :: loss: 7.051667]\n",
            "epoch: 167, [Discriminator :: d_loss: 4.981996], [ Generator :: loss: 7.393579]\n",
            "epoch: 168, [Discriminator :: d_loss: 3.487397], [ Generator :: loss: 5.540595]\n",
            "epoch: 169, [Discriminator :: d_loss: 4.981996], [ Generator :: loss: 7.555357]\n",
            "epoch: 170, [Discriminator :: d_loss: 4.489286], [ Generator :: loss: 8.059048]\n",
            "epoch: 171, [Discriminator :: d_loss: 3.487397], [ Generator :: loss: 7.555357]\n",
            "epoch: 172, [Discriminator :: d_loss: 6.487576], [ Generator :: loss: 7.555361]\n",
            "epoch: 173, [Discriminator :: d_loss: 4.916265], [ Generator :: loss: 6.547976]\n",
            "epoch: 174, [Discriminator :: d_loss: 3.985596], [ Generator :: loss: 7.555357]\n",
            "epoch: 175, [Discriminator :: d_loss: 5.983885], [ Generator :: loss: 7.555357]\n",
            "epoch: 176, [Discriminator :: d_loss: 3.487397], [ Generator :: loss: 7.051667]\n",
            "epoch: 177, [Discriminator :: d_loss: 3.622996], [ Generator :: loss: 7.051667]\n",
            "epoch: 178, [Discriminator :: d_loss: 4.483796], [ Generator :: loss: 7.555357]\n",
            "epoch: 179, [Discriminator :: d_loss: 2.994688], [ Generator :: loss: 7.555357]\n",
            "epoch: 180, [Discriminator :: d_loss: 4.992977], [ Generator :: loss: 7.555357]\n",
            "epoch: 181, [Discriminator :: d_loss: 4.483796], [ Generator :: loss: 8.059048]\n",
            "epoch: 182, [Discriminator :: d_loss: 2.490998], [ Generator :: loss: 7.051667]\n",
            "epoch: 183, [Discriminator :: d_loss: 5.491177], [ Generator :: loss: 6.547976]\n"
          ],
          "name": "stdout"
        },
        {
          "output_type": "stream",
          "text": [
            "epoch: 184, [Discriminator :: d_loss: 4.992977], [ Generator :: loss: 6.938886]\n",
            "epoch: 185, [Discriminator :: d_loss: 3.985596], [ Generator :: loss: 7.051667]\n",
            "epoch: 186, [Discriminator :: d_loss: 2.490998], [ Generator :: loss: 7.555357]\n",
            "epoch: 187, [Discriminator :: d_loss: 5.485686], [ Generator :: loss: 7.051667]\n",
            "epoch: 188, [Discriminator :: d_loss: 3.991087], [ Generator :: loss: 6.547976]\n",
            "epoch: 189, [Discriminator :: d_loss: 5.485686], [ Generator :: loss: 7.051667]\n",
            "epoch: 190, [Discriminator :: d_loss: 3.991087], [ Generator :: loss: 7.611899]\n",
            "epoch: 191, [Discriminator :: d_loss: 6.482085], [ Generator :: loss: 7.555357]\n",
            "epoch: 192, [Discriminator :: d_loss: 5.983885], [ Generator :: loss: 8.059048]\n",
            "epoch: 193, [Discriminator :: d_loss: 3.985596], [ Generator :: loss: 7.051719]\n",
            "epoch: 194, [Discriminator :: d_loss: 1.494599], [ Generator :: loss: 6.716700]\n",
            "epoch: 195, [Discriminator :: d_loss: 1.992798], [ Generator :: loss: 6.547976]\n",
            "epoch: 196, [Discriminator :: d_loss: 3.492887], [ Generator :: loss: 6.547976]\n",
            "epoch: 197, [Discriminator :: d_loss: 3.492887], [ Generator :: loss: 6.547976]\n",
            "epoch: 198, [Discriminator :: d_loss: 4.494555], [ Generator :: loss: 8.562738]\n",
            "epoch: 199, [Discriminator :: d_loss: 2.772406], [ Generator :: loss: 7.051667]\n",
            "epoch: 200, [Discriminator :: d_loss: 5.983885], [ Generator :: loss: 5.540595]\n"
          ],
          "name": "stdout"
        }
      ]
    },
    {
      "metadata": {
        "id": "CZsS1hC5W_sO",
        "colab_type": "code",
        "colab": {
          "autoexec": {
            "startup": false,
            "wait_interval": 0
          },
          "base_uri": "https://localhost:8080/",
          "height": 35
        },
        "outputId": "b584c54b-721e-4cda-9b9f-c6a095cd327a",
        "executionInfo": {
          "status": "ok",
          "timestamp": 1526353901601,
          "user_tz": 240,
          "elapsed": 311,
          "user": {
            "displayName": "Kai Matheson",
            "photoUrl": "//lh5.googleusercontent.com/-fFgNuDpDly4/AAAAAAAAAAI/AAAAAAAAAs8/f5ofK6BWKak/s50-c-k-no/photo.jpg",
            "userId": "107454492991575252026"
          }
        }
      },
      "cell_type": "code",
      "source": [
        "cd images"
      ],
      "execution_count": 13,
      "outputs": [
        {
          "output_type": "stream",
          "text": [
            "/content/images\n"
          ],
          "name": "stdout"
        }
      ]
    },
    {
      "metadata": {
        "id": "11mqF4_HYg_r",
        "colab_type": "code",
        "colab": {
          "autoexec": {
            "startup": false,
            "wait_interval": 0
          },
          "base_uri": "https://localhost:8080/",
          "height": 104
        },
        "outputId": "9f0444c1-445e-442b-ab03-83d2af25b9e8",
        "executionInfo": {
          "status": "ok",
          "timestamp": 1526353904755,
          "user_tz": 240,
          "elapsed": 1663,
          "user": {
            "displayName": "Kai Matheson",
            "photoUrl": "//lh5.googleusercontent.com/-fFgNuDpDly4/AAAAAAAAAAI/AAAAAAAAAs8/f5ofK6BWKak/s50-c-k-no/photo.jpg",
            "userId": "107454492991575252026"
          }
        }
      },
      "cell_type": "code",
      "source": [
        "ls"
      ],
      "execution_count": 14,
      "outputs": [
        {
          "output_type": "stream",
          "text": [
            "maps_0.png    maps_130.png  maps_180.png  maps_40.png  maps_90.png\r\n",
            "maps_100.png  maps_140.png  maps_190.png  maps_50.png\r\n",
            "maps_10.png   maps_150.png  maps_200.png  maps_60.png\r\n",
            "maps_110.png  maps_160.png  maps_20.png   maps_70.png\r\n",
            "maps_120.png  maps_170.png  maps_30.png   maps_80.png\r\n"
          ],
          "name": "stdout"
        }
      ]
    },
    {
      "metadata": {
        "id": "IqXVqv4_Ymc5",
        "colab_type": "code",
        "colab": {
          "autoexec": {
            "startup": false,
            "wait_interval": 0
          },
          "base_uri": "https://localhost:8080/",
          "height": 269
        },
        "outputId": "8cf3c653-fa06-40a6-dedb-3fbb3105c2f4",
        "executionInfo": {
          "status": "ok",
          "timestamp": 1526353956810,
          "user_tz": 240,
          "elapsed": 457,
          "user": {
            "displayName": "Kai Matheson",
            "photoUrl": "//lh5.googleusercontent.com/-fFgNuDpDly4/AAAAAAAAAAI/AAAAAAAAAs8/f5ofK6BWKak/s50-c-k-no/photo.jpg",
            "userId": "107454492991575252026"
          }
        }
      },
      "cell_type": "code",
      "source": [
        "imgplot = plt.imshow(mpimg.imread('maps_150.png'))"
      ],
      "execution_count": 20,
      "outputs": [
        {
          "output_type": "display_data",
          "data": {
            "image/png": "[encoded data removed]",
            "text/plain": [
              "<matplotlib.figure.Figure at 0x7faef01ab390>"
            ]
          },
          "metadata": {
            "tags": []
          }
        }
      ]
    },
    {
      "metadata": {
        "id": "P9x3MuDU9wpi",
        "colab_type": "code",
        "colab": {
          "autoexec": {
            "startup": false,
            "wait_interval": 0
          },
          "base_uri": "https://localhost:8080/",
          "height": 35
        },
        "outputId": "ec8c528f-dcb0-487d-b132-2f2974b9e253",
        "executionInfo": {
          "status": "ok",
          "timestamp": 1526353978876,
          "user_tz": 240,
          "elapsed": 445,
          "user": {
            "displayName": "Kai Matheson",
            "photoUrl": "//lh5.googleusercontent.com/-fFgNuDpDly4/AAAAAAAAAAI/AAAAAAAAAs8/f5ofK6BWKak/s50-c-k-no/photo.jpg",
            "userId": "107454492991575252026"
          }
        }
      },
      "cell_type": "code",
      "source": [
        "cd ~"
      ],
      "execution_count": 21,
      "outputs": [
        {
          "output_type": "stream",
          "text": [
            "/content\n"
          ],
          "name": "stdout"
        }
      ]
    },
    {
      "metadata": {
        "id": "Hai9HTNR9gbl",
        "colab_type": "code",
        "colab": {
          "autoexec": {
            "startup": false,
            "wait_interval": 0
          },
          "base_uri": "https://localhost:8080/",
          "height": 35
        },
        "outputId": "aaa020ad-50c3-4b50-d9fc-15e836e82a52",
        "executionInfo": {
          "status": "ok",
          "timestamp": 1526353979848,
          "user_tz": 240,
          "elapsed": 225,
          "user": {
            "displayName": "Kai Matheson",
            "photoUrl": "//lh5.googleusercontent.com/-fFgNuDpDly4/AAAAAAAAAAI/AAAAAAAAAs8/f5ofK6BWKak/s50-c-k-no/photo.jpg",
            "userId": "107454492991575252026"
          }
        }
      },
      "cell_type": "code",
      "source": [
        "import shutil\n",
        "shutil.make_archive('simple_gan_output', 'zip', 'images')"
      ],
      "execution_count": 22,
      "outputs": [
        {
          "output_type": "execute_result",
          "data": {
            "text/plain": [
              "'/content/simple_gan_output.zip'"
            ]
          },
          "metadata": {
            "tags": []
          },
          "execution_count": 22
        }
      ]
    },
    {
      "metadata": {
        "id": "pcikiHyV_HtE",
        "colab_type": "code",
        "colab": {
          "autoexec": {
            "startup": false,
            "wait_interval": 0
          }
        }
      },
      "cell_type": "code",
      "source": [
        "from google.colab import files\n",
        "files.download('simple_gan_output.zip')"
      ],
      "execution_count": 0,
      "outputs": []
    },
    {
      "metadata": {
        "id": "83fL5c-zoT_e",
        "colab_type": "code",
        "colab": {
          "autoexec": {
            "startup": false,
            "wait_interval": 0
          },
          "base_uri": "https://localhost:8080/",
          "height": 35
        },
        "outputId": "662dec30-1b17-490b-9f1d-ae1a283d4173",
        "executionInfo": {
          "status": "ok",
          "timestamp": 1526351351034,
          "user_tz": 240,
          "elapsed": 284,
          "user": {
            "displayName": "Kai Matheson",
            "photoUrl": "//lh5.googleusercontent.com/-fFgNuDpDly4/AAAAAAAAAAI/AAAAAAAAAs8/f5ofK6BWKak/s50-c-k-no/photo.jpg",
            "userId": "107454492991575252026"
          }
        }
      },
      "cell_type": "code",
      "source": [
        "cd ~"
      ],
      "execution_count": 14,
      "outputs": [
        {
          "output_type": "stream",
          "text": [
            "/content\n"
          ],
          "name": "stdout"
        }
      ]
    }
  ]
}